{
  "nbformat": 4,
  "nbformat_minor": 0,
  "metadata": {
    "colab": {
      "name": "DPROT - Lab1 - Practical Block Ciphers.ipynb",
      "provenance": [],
      "collapsed_sections": [],
      "toc_visible": true,
      "authorship_tag": "ABX9TyP/aTFSPMiOw2NOlmCa4ZtL",
      "include_colab_link": true
    },
    "kernelspec": {
      "name": "python3",
      "display_name": "Python 3"
    }
  },
  "cells": [
    {
      "cell_type": "markdown",
      "metadata": {
        "id": "view-in-github",
        "colab_type": "text"
      },
      "source": [
        "<a href=\"https://colab.research.google.com/github/ebayo/Mining-the-Social-Web-2nd-Edition/blob/master/DPROT_Lab1_Practical_Block_Ciphers.ipynb\" target=\"_parent\"><img src=\"https://colab.research.google.com/assets/colab-badge.svg\" alt=\"Open In Colab\"/></a>"
      ]
    },
    {
      "cell_type": "markdown",
      "metadata": {
        "id": "h0eV3nBwXOXm"
      },
      "source": [
        "#Lab Work 1: Practical Block Ciphers"
      ]
    },
    {
      "cell_type": "markdown",
      "metadata": {
        "id": "M-3c10GAZCxU"
      },
      "source": [
        "## 3 A (somewhat) practical attack against RC4\n",
        "\n",
        "In this section we propose a easy-to-implement key-recovery attack against a particular mode of operation of RC4. We need several assumptions to launch a successful attack:\n",
        "\n",
        "* The initialization value iv is a 3-byte counter prepended to a 13-byte long-term key, making a 16-byte string that is used as the actual RC4 key.\n",
        "* The iv is incremented in every new encryption.\n",
        "* RC4 is used in a communication system to send some well-structured packets with a constant header of at least one byte m[0].\n",
        "* The attacker has access to many encryptions, so that he can wait for the use of some specific iv values.\n",
        "\n",
        "The previous assumptions can be fulfiled in some systems implementing handshake packets encrypted with RC4.\n",
        "\n",
        "Practical work:\n",
        "\n",
        "1. From the description of the key scheduling phase of RC4, show that using iv=01 FF x results with high probability in a keystream first byte equal to x+2 , for any byte x .\n",
        "\n",
        "2. Use it to recover the first (fixed) byte of the encrypted message m[0] . This would require a trial-and-error process, testing all possible values of m[0] and computing how often the first keystream value is equal to . Then, the most likely value for m[0] is the one with the highest frequency.\n",
        "\n",
        "3. Show now that the first keystream byte produced with iv=03 FF x is, with a noticeable probability, x+6+k[0] , where k[0] denotes the first byte of the long-term key. Similarly, iv=04 FF x produces the first keystream byte equal to x+10+k[0]+k[1] , and so on.\n",
        "\n",
        "4. Put the previous ideas in practice to learn the first two bytes of the \n",
        "long-term key. To do that, generate a 13-byte random key and a one-byte random message (the message header suffices to perform the attack). Then, use the previous special values of iv to generate the encrypted byte for all 256 values of x , and use frequencies to detect the most probable value for m[0] , then k[0] and finally k[1] .\n",
        "\n",
        "You can use openssl to generate random values (e.g., a 13-byte random string in hexadecimal notation) with\n",
        "\n",
        "    $ openssl rand -hex 13\n",
        "\n",
        "Tools like `sort` or `unique` can be useful to detect the most repeated value.\n",
        "\n",
        "Moreover, you can save all encrypted bytes in a text file and process it with standard tools (spreadsheets) of a script in your preferred programming language (perl, python, C).\n",
        "\n",
        "```\n",
        "key is 7e1a0bbc8c770667be44dce10c and message is 90\n",
        "Gathering keystream first bytes for IV=01FFxx ... done\n",
        "Guessing m[0] ... done\n",
        "   Guessed m[0]=90 (with freq.  31)             *** OK ***\n",
        "Gathering keystream first bytes for IV=03FFxx ... done\n",
        "Guessing k[0] ... done\n",
        "   Guessed k[0]=7e (with freq.  16)             *** OK ***\n",
        "Gathering keystream first bytes for IV=04FFxx ... done\n",
        "Guessing k[1] ... done\n",
        "   Guessed k[1]=1a (with freq.  20)             *** OK ***\n",
        "Gathering keystream first bytes for IV=05FFxx ... done\n",
        "Guessing k[2] ... done\n",
        "   Guessed k[2]=0b (with freq.  17)             *** OK ***\n",
        "Gathering keystream first bytes for IV=06FFxx ... done\n",
        "Guessing k[3] ... done\n",
        "   Guessed k[3]=bc (with freq.  13)             *** OK ***\n",
        "Gathering keystream first bytes for IV=07FFxx ... done\n",
        "Guessing k[4] ... done\n",
        "   Guessed k[4]=8c (with freq.  19)             *** OK ***\n",
        "Gathering keystream first bytes for IV=08FFxx ... done\n",
        "Guessing k[5] ... done\n",
        "   Guessed k[5]=77 (with freq.  10)             *** OK ***\n",
        "Gathering keystream first bytes for IV=09FFxx ... done\n",
        "Guessing k[6] ... done\n",
        "   Guessed k[6]=06 (with freq.  12)             *** OK ***\n",
        "Gathering keystream first bytes for IV=0AFFxx ... done\n",
        "Guessing k[7] ... done\n",
        "   Guessed k[7]=67 (with freq.   7)             *** OK ***\n",
        "Gathering keystream first bytes for IV=0BFFxx ... done\n",
        "Guessing k[8] ... done\n",
        "   Guessed k[8]=be (with freq.  12)             *** OK ***\n",
        "Gathering keystream first bytes for IV=0CFFxx ... done\n",
        "Guessing k[9] ... done\n",
        "   Guessed k[9]=44 (with freq.  13)             *** OK ***\n",
        "Gathering keystream first bytes for IV=0DFFxx ... done\n",
        "Guessing k[10] ... done\n",
        "   Guessed k[10]=dc (with freq.   7)             *** OK ***\n",
        "Gathering keystream first bytes for IV=0EFFxx ... done\n",
        "Guessing k[11] ... done\n",
        "   Guessed k[11]=e1 (with freq.  13)             *** OK ***\n",
        "Gathering keystream first bytes for IV=0FFFxx ... done\n",
        "Guessing k[12] ... done\n",
        "   Guessed k[12]=0c (with freq.  10)             *** OK ***\n",
        "\n",
        "```\n",
        "\n",
        "\n",
        "\n"
      ]
    },
    {
      "cell_type": "markdown",
      "metadata": {
        "id": "H9MPMyvQbTT1"
      },
      "source": [
        "### 3.0 Data Preparation\n",
        "\n",
        "Generate a random header and a random key:\n",
        "\n",
        "* Random \"header\", 1 byte: `openssl rand -hex 1 > m0.txt` --> I got the byte 0xbe, but when encrypting openssl sees them as characters, so the actual encrypted message is the character 'b' (0x62)\n",
        "\n",
        "* Random Key of 13 bytes: `openssl rand -hex 13 > key.txt`\n"
      ]
    },
    {
      "cell_type": "code",
      "metadata": {
        "id": "Bu3VCdoGcv6r",
        "outputId": "5a047f38-4fb8-4346-b196-7d5d0ece43df",
        "colab": {
          "base_uri": "https://localhost:8080/",
          "height": 69
        }
      },
      "source": [
        "#example to read one line\n",
        "\n",
        "fKey = open(\"key.txt\",'r')\n",
        "KEY = fKey.readline()\n",
        "print('The 13 byte random key is: {}'.format(KEY))\n",
        "fM0 = open(\"m0.txt\",'r')\n",
        "M0_st = fM0.readline()\n",
        "M0_hex = hex(ord(M0_st))\n",
        "print('The 1 byte random message is: {} ({})'.format(M0_st,M0_hex))"
      ],
      "execution_count": null,
      "outputs": [
        {
          "output_type": "stream",
          "text": [
            "The 13 byte random key is: a69ae31544d461001888cb2915\n",
            "\n",
            "The 1 byte random message is: b (0x62)\n"
          ],
          "name": "stdout"
        }
      ]
    },
    {
      "cell_type": "markdown",
      "metadata": {
        "id": "FzyMysKg_b4P"
      },
      "source": [
        "With the generated key, append the 3-byte pre-pended counter to the key in the range 01FF00 to 01FFFF to generate all possible keys to use, save it to a file to encrypt the message (m0) to be able to do the frontal attack."
      ]
    },
    {
      "cell_type": "code",
      "metadata": {
        "id": "Ar_oKna4OF1P"
      },
      "source": [
        "iv = '01ff0'\n",
        "iv_counter = []\n",
        "for i in range (0,int('10',16)):\n",
        "  i_h = hex(i)\n",
        "  iv_counter.append(iv+i_h[2:])\n",
        "\n",
        "iv = '01ff'\n",
        "for i in range (int('10',16),int('100',16)):\n",
        "  i_h = hex(i)\n",
        "  iv_counter.append(iv+i_h[2:])"
      ],
      "execution_count": null,
      "outputs": []
    },
    {
      "cell_type": "code",
      "metadata": {
        "id": "DJyWwKTjOu1y"
      },
      "source": [
        "fKeys = open('keys01ffxx.txt','w')\n",
        "for iv in iv_counter:\n",
        "  fKeys.write(iv + KEY)\n",
        "fKeys.close()"
      ],
      "execution_count": null,
      "outputs": []
    },
    {
      "cell_type": "markdown",
      "metadata": {
        "id": "Zp9ZM94oMFqy"
      },
      "source": [
        "With the file with all the keys with the pre-appended \"iv\" --> encrypt the header message using openssl\n",
        "\n",
        "Next we are preparing the output from xxd to keep just the first byte of the encrypeted message"
      ]
    },
    {
      "cell_type": "code",
      "metadata": {
        "id": "48UwzVL9MkaD"
      },
      "source": [
        "fcyphers = open('cyphers01ffxx.txt')\n",
        "cc = fcyphers.readlines()\n",
        "fcyphers.close()\n",
        "cyphers = []\n",
        "for c in cc:\n",
        "  cyphers.append(c[10:12])"
      ],
      "execution_count": null,
      "outputs": []
    },
    {
      "cell_type": "markdown",
      "metadata": {
        "id": "rTJ40Q6vZbbi"
      },
      "source": [
        "### 3.1 Use of iv = 01 FF xx\n",
        "From the description of the key scheduling phase of RC4, show that using iv=01 FF x results with high probability in a keystream first byte equal to x+2 , for any byte x ."
      ]
    },
    {
      "cell_type": "code",
      "metadata": {
        "id": "LgVNyYPs-yOE"
      },
      "source": [
        "#TODO"
      ],
      "execution_count": null,
      "outputs": []
    },
    {
      "cell_type": "markdown",
      "metadata": {
        "id": "fnB0Va9AZjbo"
      },
      "source": [
        "### 3.2  Recover the first byte of the encrypted message m[0]\n",
        "Use it to recover the first (fixed) byte of the encrypted message m[0] . This would require a trial-and-error process, testing all possible values of m[0] and computing how often the first keystream value is equal to . Then, the most likely value for m[0] is the one with the highest frequency."
      ]
    },
    {
      "cell_type": "code",
      "metadata": {
        "id": "x08BugaLXGFF"
      },
      "source": [
        "import numpy as np"
      ],
      "execution_count": null,
      "outputs": []
    },
    {
      "cell_type": "code",
      "metadata": {
        "id": "O-GKxcZKt9f0",
        "outputId": "76e03a65-b2b0-4d80-ae54-223e862bb860",
        "colab": {
          "base_uri": "https://localhost:8080/",
          "height": 52
        }
      },
      "source": [
        "counter = np.zeros(256)\n",
        "for iv in range(256):\n",
        "  c = int(cyphers[iv],16)\n",
        "  for m in range(256):\n",
        "    if (c^m) == iv+2:\n",
        "      counter[m] += 1\n",
        "m_guessed = np.argmax(counter)\n",
        "freq = max(counter)\n",
        "print(\"The encrypted message is {}\".format(M0_hex))\n",
        "print(\"The guessed message is: {} with prequency {}/{}\".format(hex(m_guessed),freq,256*256))"
      ],
      "execution_count": null,
      "outputs": [
        {
          "output_type": "stream",
          "text": [
            "The encrypted message is 0x62\n",
            "The guessed message is: 0x62 with prequency 33.0/65536\n"
          ],
          "name": "stdout"
        }
      ]
    },
    {
      "cell_type": "markdown",
      "metadata": {
        "id": "9Y5F8ZjaZqR2"
      },
      "source": [
        "### 3.3 Use of iv = 03 FF xx and iv = 04 FF xx\n",
        "\n",
        "Show now that the first keystream byte produced with iv=03 FF x is, with a noticeable probability, x+6+k[0] , where k[0] denotes the first byte of the long-term key. Similarly, iv=04 FF x produces the first keystream byte equal to x+10+k[0]+k[1] , and so on."
      ]
    },
    {
      "cell_type": "code",
      "metadata": {
        "id": "01XF6kzE-17M"
      },
      "source": [
        "# TODO"
      ],
      "execution_count": null,
      "outputs": []
    },
    {
      "cell_type": "markdown",
      "metadata": {
        "id": "6gyOS1ggZuCw"
      },
      "source": [
        "### 3.4 Recover m[0], k[1], k[2]\n",
        "Put the previous ideas in practice to learn the first two bytes of the long-term key. To do that, generate a 13-byte random key and a one-byte random message (the message header suffices to perform the attack). Then, use the previous special values of iv to generate the encrypted byte for all 256 values of x , and use frequencies to detect the most probable value for m[0] , then k[0] and finally k[1] ."
      ]
    },
    {
      "cell_type": "markdown",
      "metadata": {
        "id": "jZWlOzUrCVTQ"
      },
      "source": [
        "#### New data preparation\n",
        "\n",
        "We use the same method as before to obtain all the keys with the preappended data as before with the new values for the counter and obtain the new cyphered message."
      ]
    },
    {
      "cell_type": "code",
      "metadata": {
        "id": "lKHjytyw5JrA"
      },
      "source": [
        "iv = '03ff0'\n",
        "iv_counter = []\n",
        "for i in range (0,int('10',16)):\n",
        "  i_h = hex(i)\n",
        "  iv_counter.append(iv+i_h[2:])\n",
        "\n",
        "iv = '03ff'\n",
        "for i in range (int('10',16),int('100',16)):\n",
        "  i_h = hex(i)\n",
        "  iv_counter.append(iv+i_h[2:])"
      ],
      "execution_count": null,
      "outputs": []
    },
    {
      "cell_type": "code",
      "metadata": {
        "id": "AD2_ndO65Jri"
      },
      "source": [
        "fKeys = open('keys03ffxx.txt','w')\n",
        "for iv in iv_counter:\n",
        "  fKeys.write(iv + KEY)\n",
        "fKeys.close()"
      ],
      "execution_count": null,
      "outputs": []
    },
    {
      "cell_type": "code",
      "metadata": {
        "id": "1VJmWxpP5e30"
      },
      "source": [
        "iv = '04ff0'\n",
        "iv_counter = []\n",
        "for i in range (0,int('10',16)):\n",
        "  i_h = hex(i)\n",
        "  iv_counter.append(iv+i_h[2:])\n",
        "\n",
        "iv = '04ff'\n",
        "for i in range (int('10',16),int('100',16)):\n",
        "  i_h = hex(i)\n",
        "  iv_counter.append(iv+i_h[2:])"
      ],
      "execution_count": null,
      "outputs": []
    },
    {
      "cell_type": "code",
      "metadata": {
        "id": "xSLr5vKe5e4J"
      },
      "source": [
        "fKeys = open('keys04ffxx.txt','w')\n",
        "for iv in iv_counter:\n",
        "  fKeys.write(iv + KEY)\n",
        "fKeys.close()"
      ],
      "execution_count": null,
      "outputs": []
    },
    {
      "cell_type": "markdown",
      "metadata": {
        "id": "d1NL1DKbDOND"
      },
      "source": [
        "#### Guessing the first byte of the long term key k[0]"
      ]
    },
    {
      "cell_type": "code",
      "metadata": {
        "id": "f7PoLk3qF_pp"
      },
      "source": [
        "# Load the encrypted message with iv = 03 ff xx\n",
        "fcyphers = open('cyphers03ffxx.txt')\n",
        "cc = fcyphers.readlines()\n",
        "fcyphers.close()\n",
        "cyphers = []\n",
        "for c in cc:\n",
        "  cyphers.append(c[10:12])"
      ],
      "execution_count": null,
      "outputs": []
    },
    {
      "cell_type": "code",
      "metadata": {
        "id": "IZhFy-imDN5B",
        "outputId": "b496dc5d-d38c-4c74-ed24-23e1d234cad2",
        "colab": {
          "base_uri": "https://localhost:8080/",
          "height": 69
        }
      },
      "source": [
        "# x+6+k[0]\n",
        "counter = np.zeros(256)\n",
        "for iv in range(256):\n",
        "  c = int(cyphers[iv],16)\n",
        "  for k0 in range(256):\n",
        "    if (c^m_guessed) == (iv+6+k0)%256:\n",
        "      counter[k0] += 1\n",
        "k0_guessed = np.argmax(counter)\n",
        "freq = max(counter)\n",
        "print(\"The Key is {}\".format(KEY))\n",
        "print(\"The guessed message is: {} with prequency {}/{}\".format(hex(k0_guessed),freq,256*256))"
      ],
      "execution_count": null,
      "outputs": [
        {
          "output_type": "stream",
          "text": [
            "The Key is a69ae31544d461001888cb2915\n",
            "\n",
            "The guessed message is: 0xa6 with prequency 17.0/65536\n"
          ],
          "name": "stdout"
        }
      ]
    },
    {
      "cell_type": "markdown",
      "metadata": {
        "id": "CMgm4I66GQ3a"
      },
      "source": [
        "#### Guessing the second byte of the long term key k[1]"
      ]
    },
    {
      "cell_type": "code",
      "metadata": {
        "id": "Nl8IWGuUGIGR"
      },
      "source": [
        "# Load the encrypted message with iv = 04 ff xx\n",
        "fcyphers = open('cyphers04ffxx.txt')\n",
        "cc = fcyphers.readlines()\n",
        "fcyphers.close()\n",
        "cyphers = []\n",
        "for c in cc:\n",
        "  cyphers.append(c[10:12])"
      ],
      "execution_count": null,
      "outputs": []
    },
    {
      "cell_type": "code",
      "metadata": {
        "id": "vsLOeKQ5DwyE",
        "outputId": "1fc102c9-d869-49f5-e2e6-65a7d5a80191",
        "colab": {
          "base_uri": "https://localhost:8080/",
          "height": 69
        }
      },
      "source": [
        "# x+10+k[0]+k[1]\n",
        "counter = np.zeros(256)\n",
        "for iv in range(256):\n",
        "  c = int(cyphers[iv],16)\n",
        "  for k1 in range(256):\n",
        "    if (c^m_guessed) == (iv+10+k0_guessed+k1)%256:\n",
        "      counter[k1] += 1\n",
        "k1_guessed = np.argmax(counter)\n",
        "freq = max(counter)\n",
        "print(\"The Key is {}\".format(KEY))\n",
        "print(\"The guessed message is: {} with prequency {}/{}\".format(hex(k1_guessed),freq,256*256))"
      ],
      "execution_count": null,
      "outputs": [
        {
          "output_type": "stream",
          "text": [
            "The Key is a69ae31544d461001888cb2915\n",
            "\n",
            "The guessed message is: 0x9a with prequency 14.0/65536\n"
          ],
          "name": "stdout"
        }
      ]
    },
    {
      "cell_type": "markdown",
      "metadata": {
        "id": "0UdcT9KINfUq"
      },
      "source": [
        "### 3.5 Some Conclusions\n",
        "\n",
        "We have seen that knowing some simple information on the production of the key and some information about the message itself, it's easy enough to recover the value of the key and with that RC4 is not really safe. The assumption are not that crazy, speccially with recards to the message as nowadays a lot of information is kept in messages and files with known headers such as internet packages."
      ]
    }
  ]
}